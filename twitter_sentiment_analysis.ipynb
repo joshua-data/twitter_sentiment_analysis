{
 "cells": [
  {
   "cell_type": "markdown",
   "metadata": {},
   "source": [
    "# Import Libraries"
   ]
  },
  {
   "cell_type": "code",
   "execution_count": null,
   "metadata": {},
   "outputs": [],
   "source": [
    "import numpy as np\n",
    "import pandas as pd\n",
    "import matplotlib.pyplot as plt\n",
    "\n",
    "import tweepy\n",
    "from textblob import TextBlob\n",
    "\n",
    "import nltk\n",
    "nltk.download('vader_lexicon')\n",
    "from nltk.sentiment.vader import SentimentIntensityAnalyzer"
   ]
  },
  {
   "cell_type": "markdown",
   "metadata": {},
   "source": [
    "# Twitter Authentication"
   ]
  },
  {
   "cell_type": "code",
   "execution_count": null,
   "metadata": {},
   "outputs": [],
   "source": [
    "# Authentication\n",
    "\n",
    "CONSUMER_KEY = 'xxx'\n",
    "CONSUMER_SECRET = 'xxx'\n",
    "ACCESS_TOKEN = 'xxx'\n",
    "ACCESS_TOKEN_SECRET = 'xxx'\n",
    "\n",
    "auth = tweepy.OAuthHandler(CONSUMER_KEY, CONSUMER_SECRET)\n",
    "auth.set_access_token(ACCESS_TOKEN, ACCESS_TOKEN_SECRET)\n",
    "\n",
    "api = tweepy.API(auth)"
   ]
  },
  {
   "cell_type": "markdown",
   "metadata": {},
   "source": [
    "# Gather Twitter Data"
   ]
  },
  {
   "cell_type": "code",
   "execution_count": null,
   "metadata": {},
   "outputs": [],
   "source": [
    "keyword = str(input('Please enter a keyword to search:'))\n",
    "tweets_cnt = int(input('Please enter the number of tweets to gather:'))\n",
    "\n",
    "tweets = tweepy.Cursor(\n",
    "    api.search,\n",
    "    q = keyword\n",
    ").items(tweets_cnt)"
   ]
  },
  {
   "cell_type": "markdown",
   "metadata": {},
   "source": [
    "# Calculate Sentiment Scores"
   ]
  },
  {
   "cell_type": "code",
   "execution_count": null,
   "metadata": {},
   "outputs": [],
   "source": [
    "positives_cnt, neutrals_cnt, negatives_cnt = 0, 0, 0\n",
    "\n",
    "for tweet in tweets:\n",
    "\n",
    "    sia = SentimentIntensityAnalyzer()\n",
    "    analysis = TextBlob(tweet.text)\n",
    "\n",
    "    score = sia.polarity_scores(tweet.text)\n",
    "    score_pos = score['pos']\n",
    "    score_neu = score['neu']\n",
    "    score_neg = score['neg']\n",
    "\n",
    "    if score_neg > score_pos:\n",
    "        negatives_cnt += 1\n",
    "    elif score_neg == score_pos:\n",
    "        neutrals_cnt += 1\n",
    "    elif score_neg < score_pos:\n",
    "        positives_cnt += 1\n",
    "\n",
    "def getPercentage(part, whole):\n",
    "    return 100 * float(part) / float(whole)\n",
    "\n",
    "positive_perc = getPercentage(positives_cnt, tweets_cnt)\n",
    "neutral_perc = getPercentage(neutrals_cnt, tweets_cnt)\n",
    "negative_perc = getPercentage(negatives_cnt, tweets_cnt)\n",
    "\n",
    "positive_perc = format(positive_perc, '.1f')\n",
    "neutral_perc = format(neutral_perc, '.1f')\n",
    "negative_perc = format(negative_perc, '.1f')"
   ]
  },
  {
   "cell_type": "markdown",
   "metadata": {},
   "source": [
    "# Create a Summarized Pie Chart"
   ]
  },
  {
   "cell_type": "code",
   "execution_count": null,
   "metadata": {},
   "outputs": [],
   "source": [
    "sizes = [positive_perc, neutral_perc, negative_perc]\n",
    "colors = ['yellowgreen', 'blue', 'red']\n",
    "labels = [\n",
    "    'Positive [' + str(positive_perc) + '%]',\n",
    "    'Neutral [' + str(neutral_perc) + '%]',\n",
    "    'Negative [' + str(negative_perc) + '%]'\n",
    "]\n",
    "\n",
    "patches, texts = plt.pie(\n",
    "    sizes,\n",
    "    colors = colors,\n",
    "    startangle = 90\n",
    ")\n",
    "\n",
    "plt.title('Sentiment Analysis Result for keyword: ' + keyword)\n",
    "plt.legend(labels)\n",
    "\n",
    "plt.style.use('default')\n",
    "plt.axis('equal')\n",
    "plt.show()"
   ]
  }
 ],
 "metadata": {
  "language_info": {
   "name": "python"
  }
 },
 "nbformat": 4,
 "nbformat_minor": 2
}
